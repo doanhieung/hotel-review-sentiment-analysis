{
 "cells": [
  {
   "cell_type": "code",
   "execution_count": 1,
   "metadata": {},
   "outputs": [],
   "source": [
    "import json\n",
    "import numpy as np\n",
    "import pandas as pd\n",
    "import traceback\n",
    "from dotenv import load_dotenv\n",
    "from openai import OpenAI\n",
    "from sklearn.model_selection import train_test_split\n",
    "from sklearn.metrics import classification_report\n",
    "\n",
    "load_dotenv()\n",
    "client = OpenAI()"
   ]
  },
  {
   "cell_type": "code",
   "execution_count": 2,
   "metadata": {},
   "outputs": [
    {
     "data": {
      "text/html": [
       "<div>\n",
       "<style scoped>\n",
       "    .dataframe tbody tr th:only-of-type {\n",
       "        vertical-align: middle;\n",
       "    }\n",
       "\n",
       "    .dataframe tbody tr th {\n",
       "        vertical-align: top;\n",
       "    }\n",
       "\n",
       "    .dataframe thead th {\n",
       "        text-align: right;\n",
       "    }\n",
       "</style>\n",
       "<table border=\"1\" class=\"dataframe\">\n",
       "  <thead>\n",
       "    <tr style=\"text-align: right;\">\n",
       "      <th></th>\n",
       "      <th>Review</th>\n",
       "      <th>Sentiment</th>\n",
       "    </tr>\n",
       "  </thead>\n",
       "  <tbody>\n",
       "    <tr>\n",
       "      <th>count</th>\n",
       "      <td>8361</td>\n",
       "      <td>8361</td>\n",
       "    </tr>\n",
       "    <tr>\n",
       "      <th>unique</th>\n",
       "      <td>7689</td>\n",
       "      <td>2</td>\n",
       "    </tr>\n",
       "    <tr>\n",
       "      <th>top</th>\n",
       "      <td>Location</td>\n",
       "      <td>Negative</td>\n",
       "    </tr>\n",
       "    <tr>\n",
       "      <th>freq</th>\n",
       "      <td>151</td>\n",
       "      <td>4262</td>\n",
       "    </tr>\n",
       "  </tbody>\n",
       "</table>\n",
       "</div>"
      ],
      "text/plain": [
       "           Review Sentiment\n",
       "count        8361      8361\n",
       "unique       7689         2\n",
       "top      Location  Negative\n",
       "freq          151      4262"
      ]
     },
     "execution_count": 2,
     "metadata": {},
     "output_type": "execute_result"
    }
   ],
   "source": [
    "df = pd.read_csv(\"../data/Britannia.csv\")\n",
    "negative_reviews = df.loc[df[\"Negative_Review\"] != \"No Negative\", \"Negative_Review\"]\n",
    "positive_reviews = df.loc[df[\"Positive_Review\"] != \"No Positive\", \"Positive_Review\"]\n",
    "review_df = pd.DataFrame(\n",
    "    {\n",
    "        \"Review\": pd.concat([negative_reviews, positive_reviews], ignore_index=True),\n",
    "        \"Sentiment\": [\"Negative\"] * len(negative_reviews)\n",
    "        + [\"Positive\"] * len(positive_reviews),\n",
    "    }\n",
    ")\n",
    "review_df.describe()"
   ]
  },
  {
   "cell_type": "code",
   "execution_count": 3,
   "metadata": {},
   "outputs": [
    {
     "name": "stdout",
     "output_type": "stream",
     "text": [
      "(6688,) (1673,)\n"
     ]
    }
   ],
   "source": [
    "X_train, X_test, y_train, y_test = train_test_split(\n",
    "    review_df[\"Review\"],\n",
    "    review_df[\"Sentiment\"],\n",
    "    test_size=0.2,\n",
    "    random_state=42,\n",
    "    stratify=review_df[\"Sentiment\"],\n",
    ")\n",
    "print(X_train.shape, X_test.shape)"
   ]
  },
  {
   "cell_type": "code",
   "execution_count": 4,
   "metadata": {},
   "outputs": [],
   "source": [
    "def generate_batches(lst, batch_size):\n",
    "    for i in range(0, len(lst), batch_size):\n",
    "        yield lst[i : i + batch_size]"
   ]
  },
  {
   "cell_type": "code",
   "execution_count": null,
   "metadata": {},
   "outputs": [],
   "source": [
    "!mkdir -p ../model/llm/output"
   ]
  },
  {
   "cell_type": "code",
   "execution_count": null,
   "metadata": {},
   "outputs": [],
   "source": [
    "template = \"\"\"Add a \"label\" field to each object in the JSON below, based on the sentiment of the \"text\" field. The \"label\" must be either \"Positive\" or \"Negative\" and should exclude any neutral classification. For ambiguous or mixed sentiments, assign the label that reflects the overall tone. Return the JSON formatted as pretty-printed text.\n",
    "\n",
    "### Desired JSON structure:\n",
    "{{\n",
    "    \"output\": [\n",
    "        {{\n",
    "            \"id\": <integer>,           // Unique identifier for the object\n",
    "            \"text\": <string>,          // A sentence or phrase to analyze\n",
    "            \"label\": <\"Positive\"|\"Negative\"> // Sentiment of the text, must always be either \"Positive\" or \"Negative\", never be \"Neural\".\n",
    "        }},\n",
    "        ...\n",
    "    ]\n",
    "}}\n",
    "\n",
    "### Input JSON:\n",
    "{input_json}\n",
    "\"\"\"\n",
    "\n",
    "for batch_id, batch in enumerate(generate_batches(X_test.values, batch_size=50)):\n",
    "    try:\n",
    "        input_json = [{\"id\": i, \"text\": text} for i, text in enumerate(batch, start=1)]\n",
    "        input_json = {\"input\": input_json}\n",
    "        messages = [\n",
    "            {\n",
    "                \"role\": \"user\",\n",
    "                \"content\": template.format(input_json=json.dumps(input_json, indent=4)),\n",
    "            },\n",
    "        ]\n",
    "\n",
    "        chat_completion = client.chat.completions.create(\n",
    "            messages=messages,\n",
    "            model=\"gpt-4o-mini\",\n",
    "            temperature=0,\n",
    "            response_format={\"type\": \"json_object\"},\n",
    "        )\n",
    "        response = chat_completion.choices[0].message.content\n",
    "        response = json.loads(response)\n",
    "        with open(f\"../model/llm/output/{batch_id}.json\", \"w\") as f:\n",
    "            json.dump(response, f, indent=4)\n",
    "    except Exception as e:\n",
    "        error_message = traceback.format_exc()\n",
    "        print(\"Caught an exception:\", error_message)"
   ]
  },
  {
   "cell_type": "code",
   "execution_count": 5,
   "metadata": {},
   "outputs": [],
   "source": [
    "y_pred = []\n",
    "for batch_id, batch in enumerate(generate_batches(X_test.values, batch_size=50)):\n",
    "    with open(f\"../model/llm/output/{batch_id}.json\", \"r\") as f:\n",
    "        output = json.load(f)\n",
    "    if \"Neutral\" in [result[\"label\"] for result in output[\"output\"]]:\n",
    "        print(batch_id)\n",
    "    y_pred.extend([result[\"label\"] for result in output[\"output\"]])"
   ]
  },
  {
   "cell_type": "code",
   "execution_count": 6,
   "metadata": {},
   "outputs": [
    {
     "name": "stdout",
     "output_type": "stream",
     "text": [
      "              precision    recall  f1-score   support\n",
      "\n",
      "    Negative     0.7992    0.9660    0.8747       853\n",
      "    Positive     0.9548    0.7476    0.8386       820\n",
      "\n",
      "    accuracy                         0.8589      1673\n",
      "   macro avg     0.8770    0.8568    0.8567      1673\n",
      "weighted avg     0.8755    0.8589    0.8570      1673\n",
      "\n"
     ]
    }
   ],
   "source": [
    "print(classification_report(y_test, y_pred, digits=4))"
   ]
  },
  {
   "cell_type": "code",
   "execution_count": 7,
   "metadata": {},
   "outputs": [
    {
     "data": {
      "text/html": [
       "<div>\n",
       "<style scoped>\n",
       "    .dataframe tbody tr th:only-of-type {\n",
       "        vertical-align: middle;\n",
       "    }\n",
       "\n",
       "    .dataframe tbody tr th {\n",
       "        vertical-align: top;\n",
       "    }\n",
       "\n",
       "    .dataframe thead th {\n",
       "        text-align: right;\n",
       "    }\n",
       "</style>\n",
       "<table border=\"1\" class=\"dataframe\">\n",
       "  <thead>\n",
       "    <tr style=\"text-align: right;\">\n",
       "      <th></th>\n",
       "      <th>Review</th>\n",
       "      <th>Predicted_Sentiment</th>\n",
       "      <th>True_Sentiment</th>\n",
       "    </tr>\n",
       "  </thead>\n",
       "  <tbody>\n",
       "    <tr>\n",
       "      <th>6966</th>\n",
       "      <td>Coffee</td>\n",
       "      <td>Negative</td>\n",
       "      <td>Positive</td>\n",
       "    </tr>\n",
       "    <tr>\n",
       "      <th>5520</th>\n",
       "      <td>Hotel position location of the tube overall look</td>\n",
       "      <td>Negative</td>\n",
       "      <td>Positive</td>\n",
       "    </tr>\n",
       "    <tr>\n",
       "      <th>7518</th>\n",
       "      <td>not water</td>\n",
       "      <td>Negative</td>\n",
       "      <td>Positive</td>\n",
       "    </tr>\n",
       "    <tr>\n",
       "      <th>5376</th>\n",
       "      <td>The international hotel has very internationa...</td>\n",
       "      <td>Negative</td>\n",
       "      <td>Positive</td>\n",
       "    </tr>\n",
       "    <tr>\n",
       "      <th>2205</th>\n",
       "      <td>Complimentary Water in room Free wifi in room</td>\n",
       "      <td>Positive</td>\n",
       "      <td>Negative</td>\n",
       "    </tr>\n",
       "    <tr>\n",
       "      <th>...</th>\n",
       "      <td>...</td>\n",
       "      <td>...</td>\n",
       "      <td>...</td>\n",
       "    </tr>\n",
       "    <tr>\n",
       "      <th>5369</th>\n",
       "      <td>The foyer spa size of room</td>\n",
       "      <td>Negative</td>\n",
       "      <td>Positive</td>\n",
       "    </tr>\n",
       "    <tr>\n",
       "      <th>7720</th>\n",
       "      <td>They are not flexible</td>\n",
       "      <td>Negative</td>\n",
       "      <td>Positive</td>\n",
       "    </tr>\n",
       "    <tr>\n",
       "      <th>3067</th>\n",
       "      <td>Swimming pool</td>\n",
       "      <td>Positive</td>\n",
       "      <td>Negative</td>\n",
       "    </tr>\n",
       "    <tr>\n",
       "      <th>4951</th>\n",
       "      <td>Not much to be honest Location good for what ...</td>\n",
       "      <td>Negative</td>\n",
       "      <td>Positive</td>\n",
       "    </tr>\n",
       "    <tr>\n",
       "      <th>4422</th>\n",
       "      <td>Dreadful breakfast Actually had to get my mon...</td>\n",
       "      <td>Negative</td>\n",
       "      <td>Positive</td>\n",
       "    </tr>\n",
       "  </tbody>\n",
       "</table>\n",
       "<p>236 rows × 3 columns</p>\n",
       "</div>"
      ],
      "text/plain": [
       "                                                 Review Predicted_Sentiment  \\\n",
       "6966                                             Coffee            Negative   \n",
       "5520   Hotel position location of the tube overall look            Negative   \n",
       "7518                                         not water             Negative   \n",
       "5376   The international hotel has very internationa...            Negative   \n",
       "2205      Complimentary Water in room Free wifi in room            Positive   \n",
       "...                                                 ...                 ...   \n",
       "5369                        The foyer spa size of room             Negative   \n",
       "7720                              They are not flexible            Negative   \n",
       "3067                                      Swimming pool            Positive   \n",
       "4951   Not much to be honest Location good for what ...            Negative   \n",
       "4422   Dreadful breakfast Actually had to get my mon...            Negative   \n",
       "\n",
       "     True_Sentiment  \n",
       "6966       Positive  \n",
       "5520       Positive  \n",
       "7518       Positive  \n",
       "5376       Positive  \n",
       "2205       Negative  \n",
       "...             ...  \n",
       "5369       Positive  \n",
       "7720       Positive  \n",
       "3067       Negative  \n",
       "4951       Positive  \n",
       "4422       Positive  \n",
       "\n",
       "[236 rows x 3 columns]"
      ]
     },
     "execution_count": 7,
     "metadata": {},
     "output_type": "execute_result"
    }
   ],
   "source": [
    "wrong_idx = np.where(y_pred != y_test)[0]\n",
    "\n",
    "wrong_pred_df = pd.DataFrame(X_test.iloc[wrong_idx])\n",
    "wrong_pred_df[\"Predicted_Sentiment\"] = np.array(y_pred)[wrong_idx]\n",
    "wrong_pred_df[\"True_Sentiment\"] = y_test.values[wrong_idx]\n",
    "\n",
    "wrong_pred_df.to_csv(\"../data/wrong_pred_llm.csv\", index=False)\n",
    "wrong_pred_df"
   ]
  }
 ],
 "metadata": {
  "kernelspec": {
   "display_name": "hotel-review-sentiment-analysis-YKbVw3of-py3.10",
   "language": "python",
   "name": "python3"
  },
  "language_info": {
   "codemirror_mode": {
    "name": "ipython",
    "version": 3
   },
   "file_extension": ".py",
   "mimetype": "text/x-python",
   "name": "python",
   "nbconvert_exporter": "python",
   "pygments_lexer": "ipython3",
   "version": "3.10.12"
  }
 },
 "nbformat": 4,
 "nbformat_minor": 2
}
